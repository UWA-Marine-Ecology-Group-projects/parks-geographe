{
 "cells": [
  {
   "cell_type": "code",
   "execution_count": 31,
   "id": "8489767e-99ec-4990-bec9-0feb63cbabf6",
   "metadata": {},
   "outputs": [],
   "source": [
    "import numpy as np\n",
    "import matplotlib.pyplot as plt\n",
    "import os, glob\n",
    "from osgeo import gdal\n",
    "from osgeo import gdalconst\n",
    "from osgeo import osr\n",
    "import subprocess\n",
    "import rasterio\n",
    "from rasterio.plot import show\n",
    "from rasterio.mask import mask\n",
    "from rasterio import crs\n",
    "import geopandas as gpd\n",
    "import pandas as pd\n",
    "import geemap\n",
    "import ee\n",
    "import rioxarray as rxr\n",
    "from rio_cogeo.profiles import cog_profiles\n",
    "import geowombat as gw\n",
    "import json\n",
    "import shapely.geometry"
   ]
  },
  {
   "cell_type": "code",
   "execution_count": null,
   "id": "ef7db079-0163-4cc7-a535-dcede1b18d46",
   "metadata": {},
   "outputs": [],
   "source": [
    "ee.Authenticate()"
   ]
  },
  {
   "cell_type": "code",
   "execution_count": 2,
   "id": "4730816b-fe9b-436c-a751-cb60f5feedaa",
   "metadata": {},
   "outputs": [],
   "source": [
    "ee.Initialize()"
   ]
  },
  {
   "cell_type": "code",
   "execution_count": 6,
   "id": "da2852cc-920c-46fb-a94d-fea79d56ae16",
   "metadata": {},
   "outputs": [],
   "source": [
    "bathpath = os.path.join(os.getcwd(),'data\\\\spatial\\\\rasters')  "
   ]
  },
  {
   "cell_type": "code",
   "execution_count": 8,
   "id": "06df24b1-5ff8-4ef6-b6b7-d2b13fde6cb2",
   "metadata": {},
   "outputs": [
    {
     "data": {
      "text/plain": [
       "['C:\\\\Users\\\\00097030\\\\LocalData\\\\Git\\\\Notebooks\\\\parks-geographe\\\\data\\\\spatial\\\\rasters\\\\GBlidar1.tif',\n",
       " 'C:\\\\Users\\\\00097030\\\\LocalData\\\\Git\\\\Notebooks\\\\parks-geographe\\\\data\\\\spatial\\\\rasters\\\\GBlidar2.tif',\n",
       " 'C:\\\\Users\\\\00097030\\\\LocalData\\\\Git\\\\Notebooks\\\\parks-geographe\\\\data\\\\spatial\\\\rasters\\\\GBlidar3.tif']"
      ]
     },
     "execution_count": 8,
     "metadata": {},
     "output_type": "execute_result"
    }
   ],
   "source": [
    "files_to_mosaic = glob.glob(bathpath +'//*.tif')\n",
    "files_to_mosaic"
   ]
  },
  {
   "cell_type": "code",
   "execution_count": 90,
   "id": "d12ac70a-bcf8-414d-a228-0b7437ba2fdc",
   "metadata": {},
   "outputs": [
    {
     "name": "stdout",
     "output_type": "stream",
     "text": [
      "PROJCS[\"WGS 84 / UTM zone 50S\",\n",
      "    GEOGCS[\"WGS 84\",\n",
      "        DATUM[\"WGS_1984\",\n",
      "            SPHEROID[\"WGS 84\",6378137,298.257223563,\n",
      "                AUTHORITY[\"EPSG\",\"7030\"]],\n",
      "            AUTHORITY[\"EPSG\",\"6326\"]],\n",
      "        PRIMEM[\"Greenwich\",0,\n",
      "            AUTHORITY[\"EPSG\",\"8901\"]],\n",
      "        UNIT[\"degree\",0.0174532925199433,\n",
      "            AUTHORITY[\"EPSG\",\"9122\"]],\n",
      "        AUTHORITY[\"EPSG\",\"4326\"]],\n",
      "    PROJECTION[\"Transverse_Mercator\"],\n",
      "    PARAMETER[\"latitude_of_origin\",0],\n",
      "    PARAMETER[\"central_meridian\",117],\n",
      "    PARAMETER[\"scale_factor\",0.9996],\n",
      "    PARAMETER[\"false_easting\",500000],\n",
      "    PARAMETER[\"false_northing\",10000000],\n",
      "    UNIT[\"metre\",1,\n",
      "        AUTHORITY[\"EPSG\",\"9001\"]],\n",
      "    AXIS[\"Easting\",EAST],\n",
      "    AXIS[\"Northing\",NORTH],\n",
      "    AUTHORITY[\"EPSG\",\"32750\"]]\n"
     ]
    }
   ],
   "source": [
    "proj = osr.SpatialReference()\n",
    "proj.ImportFromEPSG(32750)\n",
    "print(proj)"
   ]
  },
  {
   "cell_type": "code",
   "execution_count": 91,
   "id": "3c0aa57a-f2ad-4308-851c-89553990cee9",
   "metadata": {},
   "outputs": [],
   "source": [
    "for x in files_to_mosaic:\n",
    "    ras = gdal.Open(x, gdal.GA_Update)\n",
    "    ras.SetProjection(proj.ExportToWkt())\n",
    "    del ras # save, close"
   ]
  },
  {
   "cell_type": "code",
   "execution_count": 95,
   "id": "8adb2127-dcd6-4107-b5e9-c6125e5e9131",
   "metadata": {},
   "outputs": [],
   "source": [
    "outproj = os.path.join(os.getcwd(),'data\\\\spatial\\\\rasters\\\\SDB Test data\\\\Proj')  "
   ]
  },
  {
   "cell_type": "code",
   "execution_count": null,
   "id": "e9da1c36-9a25-4d67-9a9d-8fd935aeda34",
   "metadata": {},
   "outputs": [],
   "source": [
    "xres=10\n",
    "yres=10\n",
    "NODATA_VALUE = -3.4e+38\n",
    "#'EPSG:32750'\n",
    "#srcSRS = 'EPSG:4326'\n",
    "for x, index  in enumerate (files_to_mosaic):\n",
    "    #print(x, index)\n",
    "    res = (\n",
    "            gdal.Warp(outproj + '\\\\GBLidar' + str(x+1) +'.tif' , srcSRS = 'EPSG:32750', index,\n",
    "                 #format = 'GTiff',\n",
    "                 dstSRS = 'EPSG:32750',srcNodata = NODATA_VALUE, dstNodata = NODATA_VALUE,\n",
    "                 xRes=xres, yRes=yres, resampleAlg=gdalconst.GRA_Cubic)\n",
    "        )\n",
    "    #res = None\n",
    "    del res # save, close"
   ]
  },
  {
   "cell_type": "code",
   "execution_count": 42,
   "id": "757fd29a-1d53-4147-9af5-14466e98952b",
   "metadata": {},
   "outputs": [],
   "source": [
    "outmos = os.path.join(os.getcwd(),'data\\\\spatial\\\\rasters\\\\SDB Test data\\\\Mosaic\\\\5m.tif')  "
   ]
  },
  {
   "cell_type": "code",
   "execution_count": 43,
   "id": "37ce7329-e8ce-43ac-8c19-fca329d7057d",
   "metadata": {},
   "outputs": [
    {
     "data": {
      "text/plain": [
       "'C:\\\\Users\\\\00097030\\\\LocalData\\\\Git\\\\Notebooks\\\\parks-geographe\\\\data\\\\spatial\\\\rasters\\\\SDB Test data\\\\Mosaic\\\\5m.tif'"
      ]
     },
     "execution_count": 43,
     "metadata": {},
     "output_type": "execute_result"
    }
   ],
   "source": [
    "outmos"
   ]
  },
  {
   "cell_type": "code",
   "execution_count": 98,
   "id": "8e6d2890-e5ff-43fe-a0d3-42fb457c06b2",
   "metadata": {},
   "outputs": [],
   "source": [
    "xres=10\n",
    "yres=10\n",
    "NODATA_VALUE = -3.4e+38\n",
    "#'EPSG:32750'\n",
    "res = (\n",
    "        gdal.Warp(outmos, files_to_mosaic, srcSRS = 'EPSG:32750',\n",
    "                 dstSRS = 'EPSG:32750',srcNodata = NODATA_VALUE, dstNodata = NODATA_VALUE ,\n",
    "                 xRes=xres, yRes=yres, resampleAlg=gdalconst.GRA_Cubic)\n",
    "        )\n",
    "res = None"
   ]
  },
  {
   "cell_type": "code",
   "execution_count": 68,
   "id": "326099e2-fab3-458a-8157-494d0ad8294a",
   "metadata": {},
   "outputs": [],
   "source": [
    "#del res"
   ]
  },
  {
   "cell_type": "code",
   "execution_count": 79,
   "id": "595422be-3248-418d-ae38-0d1714a66ecd",
   "metadata": {},
   "outputs": [],
   "source": [
    "outreproj = os.path.join(os.getcwd(),'data\\\\spatial\\\\rasters\\\\SDB Test data\\\\Mosaic\\\\5m_reproj.tif')  "
   ]
  },
  {
   "cell_type": "code",
   "execution_count": 80,
   "id": "4782e952-46bd-4cba-bca5-613cf096c43e",
   "metadata": {},
   "outputs": [],
   "source": [
    "xres=10\n",
    "yres=10\n",
    "NODATA_VALUE = -3.4e+38\n",
    "#'EPSG:32750'\n",
    "res = (\n",
    "        gdal.Warp(outreproj, outmos, srcSRS = 'EPSG:32750',\n",
    "                 dstSRS = 'EPSG:32750',srcNodata = NODATA_VALUE, dstNodata = NODATA_VALUE ,\n",
    "                 xRes=xres, yRes=yres, resampleAlg=gdalconst.GRA_Cubic)\n",
    "        )\n",
    "res = None"
   ]
  },
  {
   "cell_type": "code",
   "execution_count": 99,
   "id": "61412ef1-0d2d-4028-b7ad-a925d28dd30b",
   "metadata": {},
   "outputs": [],
   "source": [
    "bath = rasterio.open(outmos)"
   ]
  },
  {
   "cell_type": "code",
   "execution_count": 100,
   "id": "9f22a7d1-ea58-4d3a-a118-96a83f78522e",
   "metadata": {},
   "outputs": [
    {
     "name": "stdout",
     "output_type": "stream",
     "text": [
      "EPSG:32750\n",
      "BoundingBox(left=306995.0, bottom=6274000.0, right=387005.0, top=6324010.0)\n"
     ]
    }
   ],
   "source": [
    "print(bath.crs)\n",
    "print(bath.bounds)"
   ]
  },
  {
   "cell_type": "code",
   "execution_count": 101,
   "id": "3554ed56-3f9d-4d55-88b8-b5879fdb294f",
   "metadata": {},
   "outputs": [
    {
     "data": {
      "image/png": "[encoded data removed]",
      "text/plain": [
       "<Figure size 432x288 with 1 Axes>"
      ]
     },
     "metadata": {
      "needs_background": "light"
     },
     "output_type": "display_data"
    },
    {
     "data": {
      "text/plain": [
       "<AxesSubplot:>"
      ]
     },
     "execution_count": 101,
     "metadata": {},
     "output_type": "execute_result"
    }
   ],
   "source": [
    "show(bath)"
   ]
  },
  {
   "cell_type": "code",
   "execution_count": 69,
   "id": "9dd5aace-c926-4e56-854e-b807a3c5932e",
   "metadata": {},
   "outputs": [],
   "source": [
    "del(bath)"
   ]
  },
  {
   "cell_type": "code",
   "execution_count": 108,
   "id": "9aa6d50c-962d-4994-9b09-23e58b8d3110",
   "metadata": {},
   "outputs": [
    {
     "data": {
      "text/plain": [
       "array([[-3.4e+38, -3.4e+38, -3.4e+38, ..., -3.4e+38, -3.4e+38, -3.4e+38],\n",
       "       [-3.4e+38, -3.4e+38, -3.4e+38, ..., -3.4e+38, -3.4e+38, -3.4e+38],\n",
       "       [-3.4e+38, -3.4e+38, -3.4e+38, ..., -3.4e+38, -3.4e+38, -3.4e+38],\n",
       "       ...,\n",
       "       [-3.4e+38, -3.4e+38, -3.4e+38, ..., -3.4e+38, -3.4e+38, -3.4e+38],\n",
       "       [-3.4e+38, -3.4e+38, -3.4e+38, ..., -3.4e+38, -3.4e+38, -3.4e+38],\n",
       "       [-3.4e+38, -3.4e+38, -3.4e+38, ..., -3.4e+38, -3.4e+38, -3.4e+38]],\n",
       "      dtype=float32)"
      ]
     },
     "execution_count": 108,
     "metadata": {},
     "output_type": "execute_result"
    }
   ],
   "source": [
    "bath.indexes\n",
    "band1 = np.array(bath.read(1))\n",
    "band1"
   ]
  },
  {
   "cell_type": "code",
   "execution_count": 105,
   "id": "89d0ee27-57cc-4c5e-9e77-c5be8aa855a6",
   "metadata": {},
   "outputs": [],
   "source": [
    "np.set_printoptions(suppress=True)"
   ]
  },
  {
   "cell_type": "code",
   "execution_count": 106,
   "id": "03dd3df1-216f-489e-b195-25d81a1ed92c",
   "metadata": {},
   "outputs": [
    {
     "name": "stdout",
     "output_type": "stream",
     "text": [
      "-3.4e+38 -0.01\n"
     ]
    }
   ],
   "source": [
    "print(band1.min(), band1.max())"
   ]
  },
  {
   "cell_type": "code",
   "execution_count": 119,
   "id": "8c9c0026-edfc-4bf7-ae90-c66d4b0e595a",
   "metadata": {},
   "outputs": [],
   "source": [
    "path_to = outmos\n",
    "out_cog = r'C:\\Users\\00097030\\LocalData\\Git\\Notebooks\\parks-geographe\\data\\spatial\\rasters\\SDB Test data\\COG\\COG.tif'"
   ]
  },
  {
   "cell_type": "code",
   "execution_count": 120,
   "id": "93d938e7-ea3d-4489-9b5e-006067cd140d",
   "metadata": {},
   "outputs": [
    {
     "name": "stderr",
     "output_type": "stream",
     "text": [
      "Reading input: C:\\Users\\00097030\\LocalData\\Git\\Notebooks\\parks-geographe\\data\\spatial\\rasters\\SDB Test data\\Mosaic\\5m.tif\n",
      "\n",
      "Adding overviews...\n",
      "Updating dataset tags...\n",
      "Writing output to: C:\\Users\\00097030\\LocalData\\Git\\Notebooks\\parks-geographe\\data\\spatial\\rasters\\SDB Test data\\COG\\COG.tif\n"
     ]
    }
   ],
   "source": [
    "geemap.image_to_cog(path_to, out_cog)"
   ]
  },
  {
   "cell_type": "code",
   "execution_count": 121,
   "id": "fcbe068a-9cc9-4444-a4cc-4047ddfd3cea",
   "metadata": {},
   "outputs": [
    {
     "data": {
      "text/plain": [
       "Info(Path='C:\\\\Users\\\\00097030\\\\LocalData\\\\Git\\\\Notebooks\\\\parks-geographe\\\\data\\\\spatial\\\\rasters\\\\SDB Test data\\\\COG\\\\COG.tif', Driver='GTiff', COG=True, Compression='DEFLATE', ColorSpace=None, COG_errors=None, COG_warnings=None, Profile=Profile(Bands=1, Width=8001, Height=5001, Tiled=True, Dtype='float32', Interleave='BAND', AlphaBand=False, InternalMask=False, Nodata=-3.3999999521443642e+38, ColorInterp=('gray',), ColorMap=False, Scales=(1.0,), Offsets=(0.0,)), GEO=Geo(CRS='EPSG:32750', BoundingBox=(306995.0, 6274000.0, 387005.0, 6324010.0), Origin=(306995.0, 6324010.0), Resolution=(10.0, -10.0), MinZoom=9, MaxZoom=14), Tags={'Image Metadata': {'AREA_OR_POINT': 'Area', 'OVR_RESAMPLING_ALG': 'NEAREST'}, 'Image Structure': {'COMPRESSION': 'DEFLATE', 'INTERLEAVE': 'BAND', 'LAYOUT': 'COG'}}, Band_Metadata={'Band 1': BandMetadata(Description=None, ColorInterp='gray', Offset=0.0, Scale=1.0, Metadata={})}, IFD=[IFD(Level=0, Width=8001, Height=5001, Blocksize=(512, 512), Decimation=0), IFD(Level=1, Width=4001, Height=2501, Blocksize=(512, 512), Decimation=2), IFD(Level=2, Width=2001, Height=1251, Blocksize=(512, 512), Decimation=4), IFD(Level=3, Width=1001, Height=626, Blocksize=(512, 512), Decimation=8), IFD(Level=4, Width=501, Height=313, Blocksize=(512, 512), Decimation=16)])"
      ]
     },
     "execution_count": 121,
     "metadata": {},
     "output_type": "execute_result"
    }
   ],
   "source": [
    "geemap.cog_validate(out_cog, verbose=True)"
   ]
  },
  {
   "cell_type": "code",
   "execution_count": 122,
   "id": "59d75c82-3540-4864-97bf-ff0839c06550",
   "metadata": {},
   "outputs": [],
   "source": [
    "bath_cog = rasterio.open(out_cog)"
   ]
  },
  {
   "cell_type": "code",
   "execution_count": 123,
   "id": "75770c6f-c3bd-4f04-8539-98a0d49344dc",
   "metadata": {},
   "outputs": [
    {
     "data": {
      "image/png": "[encoded data removed]",
      "text/plain": [
       "<Figure size 432x288 with 1 Axes>"
      ]
     },
     "metadata": {
      "needs_background": "light"
     },
     "output_type": "display_data"
    },
    {
     "data": {
      "text/plain": [
       "<AxesSubplot:>"
      ]
     },
     "execution_count": 123,
     "metadata": {},
     "output_type": "execute_result"
    }
   ],
   "source": [
    "show(bath_cog)"
   ]
  },
  {
   "cell_type": "code",
   "execution_count": 124,
   "id": "b29a9623-4065-4f57-b7dd-5591c9ffaa92",
   "metadata": {},
   "outputs": [],
   "source": [
    "URL = 'https://storage.cloud.google.com/cog-bucket/GB_COG.tif'"
   ]
  },
  {
   "cell_type": "code",
   "execution_count": 125,
   "id": "03c7c4b0-9c8a-49e4-a3e1-14b51f5aebb7",
   "metadata": {},
   "outputs": [],
   "source": [
    "bathy_ee = geemap.load_GeoTIFF(URL)"
   ]
  },
  {
   "cell_type": "code",
   "execution_count": 126,
   "id": "b4cf76e8-ab45-4bb0-85ab-5bd4e0a8db32",
   "metadata": {},
   "outputs": [
    {
     "data": {
      "text/plain": [
       "<ee.image.Image at 0x206039c5b50>"
      ]
     },
     "execution_count": 126,
     "metadata": {},
     "output_type": "execute_result"
    }
   ],
   "source": [
    "bathy_ee"
   ]
  },
  {
   "cell_type": "code",
   "execution_count": 127,
   "id": "fdf449ac-8ec5-42b9-9b6c-609101a4c6a5",
   "metadata": {},
   "outputs": [
    {
     "data": {
      "text/plain": [
       "{'max': {'B0': -0.009999999776482582},\n",
       " 'mean': {'B0': -14.653905649874314},\n",
       " 'min': {'B0': -38.04999923706055},\n",
       " 'std': {'B0': 6.0051612847694},\n",
       " 'sum': {'B0': -111866611.5335377}}"
      ]
     },
     "execution_count": 127,
     "metadata": {},
     "output_type": "execute_result"
    }
   ],
   "source": [
    "im_stats = geemap.image_stats(bathy_ee, scale=10)\n",
    "im_stats.getInfo()"
   ]
  },
  {
   "cell_type": "code",
   "execution_count": 213,
   "id": "f20017f3-902a-4399-835c-8cd6cd734b8c",
   "metadata": {},
   "outputs": [
    {
     "data": {
      "application/vnd.jupyter.widget-view+json": {
       "model_id": "7a997b65fd494ec2b502b1e11eeda2ac",
       "version_major": 2,
       "version_minor": 0
      },
      "text/plain": [
       "Map(center=[-33.43743969273598, 115.35413081830664], controls=(WidgetControl(options=['position', 'transparent…"
      ]
     },
     "metadata": {},
     "output_type": "display_data"
    }
   ],
   "source": [
    "bath_vis = {'bands': ['B0'], 'min': -38.0499, 'max': -0.009, 'palette': ['red','orange','yellow', 'green']}\n",
    "\n",
    "Map = geemap.Map(toolbar_ctrl=True, layer_ctrl=True)\n",
    "Map.add_basemap('HYBRID')\n",
    "Map.addLayer(bathy_ee,bath_vis, 'Bathy')\n",
    "Map.centerObject(bathy_ee.geometry(), 12)\n",
    "Map"
   ]
  },
  {
   "cell_type": "code",
   "execution_count": 214,
   "id": "f9a696be-66b4-464a-a20b-ca62741aebe6",
   "metadata": {},
   "outputs": [],
   "source": [
    "def maskS2clouds(image):\n",
    "    cloud_mask = image.select('QA60').bitwiseAnd(int('11111', 10)).eq(0) \n",
    "    snow_mask  =  image.select('QA60').bitwiseAnd(int('11111', 11)).eq(0)\n",
    "    shadow_mask = image.select('QA60').bitwiseAnd(int('11111', 3)).eq(0)\n",
    "\n",
    "    opticalBands = image.select('B.').multiply(0.0001)\n",
    "    return (image.addBands(opticalBands, None, True) \n",
    "                .updateMask(cloud_mask)  \n",
    "                .updateMask(snow_mask) \n",
    "                .updateMask(shadow_mask)  \n",
    "           )\n",
    " "
   ]
  },
  {
   "cell_type": "code",
   "execution_count": 216,
   "id": "e005ce3c-ad0e-435f-8299-b8babd5d2ccd",
   "metadata": {},
   "outputs": [],
   "source": [
    "#Bounding box, ru nafter adding bbox\n",
    "Map.draw_features\n",
    "bound = ee.FeatureCollection(Map.draw_features)\n",
    "Map.addLayer(bound, {}, 'bound')\n",
    "Map.remove_drawn_features()"
   ]
  },
  {
   "cell_type": "code",
   "execution_count": 215,
   "id": "e07a1e9a-a6f9-4697-8ac1-fabda7c35072",
   "metadata": {},
   "outputs": [],
   "source": [
    "start_date = '2020-03-01'\n",
    "end_date = '2022-06-30'"
   ]
  },
  {
   "cell_type": "code",
   "execution_count": 217,
   "id": "995570dd-3e70-4d0e-93a4-82d06cd38bf0",
   "metadata": {},
   "outputs": [],
   "source": [
    "S2 = (\n",
    "    ee.ImageCollection('COPERNICUS/S2_SR')\n",
    "    .filterBounds(bound)\n",
    "    .filterMetadata('CLOUDY_PIXEL_PERCENTAGE', 'less_than', 20)\n",
    "    .filterDate(start_date, end_date)\n",
    "    .map(maskS2clouds)\n",
    "    .median()\n",
    "    .clip(bound)    \n",
    ")"
   ]
  },
  {
   "cell_type": "code",
   "execution_count": 218,
   "id": "baca7eaa-eb66-43b7-8fc8-e980e8fb1f9f",
   "metadata": {},
   "outputs": [],
   "source": [
    "proj = ee.Projection('EPSG:32750')\n",
    "S2 = S2.reproject(proj, None, 10)"
   ]
  },
  {
   "cell_type": "code",
   "execution_count": 219,
   "id": "dc7fda87-761b-423f-900b-507260f34272",
   "metadata": {},
   "outputs": [],
   "source": [
    "vis_params = {'bands': ['B4', 'B3', 'B2'], 'min': 0, 'max': 0.2}\n",
    "Map.addLayer(S2, vis_params, 'Sentinel-2 image')"
   ]
  },
  {
   "cell_type": "code",
   "execution_count": 171,
   "id": "14fb7114-6236-4d53-a867-46391d072a1f",
   "metadata": {},
   "outputs": [],
   "source": [
    "#bound = S2.geometry()"
   ]
  },
  {
   "cell_type": "code",
   "execution_count": 222,
   "id": "be9c421f-29b1-44e8-bd97-c4a4a77ea238",
   "metadata": {},
   "outputs": [],
   "source": [
    "ndwi_image = S2.normalizedDifference(['B3', 'B5'])"
   ]
  },
  {
   "cell_type": "code",
   "execution_count": 223,
   "id": "3c640164-edc7-47f6-9d3f-9553d357f9c9",
   "metadata": {},
   "outputs": [],
   "source": [
    "vis_ndwi = {\n",
    "    'min': -1,\n",
    "    'max': 1,\n",
    "    'palette': [\n",
    "        '#ece7f2',\n",
    "        '#d0d1e6',\n",
    "        '#a6bddb',\n",
    "        '#74a9cf',\n",
    "        '#3690c0',\n",
    "        '#0570b0',\n",
    "        '#045a8d',\n",
    "        '#023858',\n",
    "    ],\n",
    "}\n",
    "Map.addLayer(ndwi_image, vis_ndwi, 'NDWI image')"
   ]
  },
  {
   "cell_type": "code",
   "execution_count": 237,
   "id": "c8331775-9158-447a-8a2e-819fa78cfbfc",
   "metadata": {},
   "outputs": [],
   "source": [
    "ndwi_threshold = 0\n",
    "water_image = ndwi_image.gt(ndwi_threshold).selfMask().clip(bound)\n",
    "Map.addLayer(water_image, {}, 'Water image')"
   ]
  },
  {
   "cell_type": "code",
   "execution_count": null,
   "id": "a15acd1e-9574-498e-aff8-6207b8d6aab2",
   "metadata": {},
   "outputs": [],
   "source": [
    "water_vector = water_image.reduceToVectors(scale=100, maxPixels=100000000)\n",
    "Map.addLayer(water_vector, {}, 'Water vector')"
   ]
  },
  {
   "cell_type": "code",
   "execution_count": null,
   "id": "0138e142-3e3f-44e2-b81e-3ee67d472444",
   "metadata": {},
   "outputs": [],
   "source": [
    "#Map.addLayer(s2_bound, {}, 'bound')"
   ]
  },
  {
   "cell_type": "code",
   "execution_count": 226,
   "id": "6de2f0fe-a7bf-4f81-9645-55bb92a6c1e4",
   "metadata": {},
   "outputs": [
    {
     "data": {
      "application/vnd.jupyter.widget-view+json": {
       "model_id": "e6d6bba6c46b41c9acad3042149c2580",
       "version_major": 2,
       "version_minor": 0
      },
      "text/plain": [
       "Map(center=[-33.440198013878586, 115.34745881013788], controls=(WidgetControl(options=['position', 'transparen…"
      ]
     },
     "metadata": {},
     "output_type": "display_data"
    }
   ],
   "source": [
    "#draw glintbounds\n",
    "Map_glint = geemap.Map(zoom=4, toolbar_ctrl=True, layer_ctrl=True)\n",
    "Map_glint.add_basemap('HYBRID')\n",
    "Map_glint.add_minimap(zoom=6)\n",
    "Map_glint.centerObject(bound, 12)\n",
    "Map_glint.addLayer(S2, vis_params, 'Sentinel-2')\n",
    "#Map_glint.addLayer(S2, vis_toa, 'Sentinel-2 BOA')\n",
    "Map_glint\n"
   ]
  },
  {
   "cell_type": "code",
   "execution_count": 196,
   "id": "6c2ce398-6111-4c23-9059-772065cb0095",
   "metadata": {},
   "outputs": [],
   "source": [
    "#S2 = S2.clip(water_vector)"
   ]
  },
  {
   "cell_type": "code",
   "execution_count": 198,
   "id": "8ef150a8-db8a-4f67-808f-70a4ad86e972",
   "metadata": {},
   "outputs": [
    {
     "data": {
      "text/plain": [
       "<ee.image.Image at 0x206cfef2880>"
      ]
     },
     "execution_count": 198,
     "metadata": {},
     "output_type": "execute_result"
    }
   ],
   "source": []
  },
  {
   "cell_type": "code",
   "execution_count": 227,
   "id": "ad1b6f9f-4a7e-4c57-a479-041ccbad89d0",
   "metadata": {},
   "outputs": [],
   "source": [
    "Map_glint.draw_features\n",
    "glint = ee.FeatureCollection(Map_glint.draw_features)\n",
    "Map_glint.addLayer(glint, {}, 'Glint')\n",
    "Map_glint.remove_drawn_features()"
   ]
  },
  {
   "cell_type": "code",
   "execution_count": 228,
   "id": "e5c6a469-83dd-4d0e-9961-68a9c759863f",
   "metadata": {},
   "outputs": [],
   "source": [
    "B2_sr = S2.select(['B8', 'B2'])\n",
    "B3_sr = S2.select(['B8', 'B3'])\n",
    "B4_sr = S2.select(['B8', 'B4'])"
   ]
  },
  {
   "cell_type": "code",
   "execution_count": 229,
   "id": "c5525d6e-f8f7-4aa0-96d2-9fa155013814",
   "metadata": {},
   "outputs": [],
   "source": [
    "lfitB2_sr = B2_sr.reduceRegion(\n",
    "              reducer=ee.Reducer.linearFit(),\n",
    "              geometry=glint,\n",
    "              scale=10,\n",
    "              #crs = 'EPSG:7844',\n",
    "              #maxPixels =  1000,\n",
    "              bestEffort = True)\n",
    "\n",
    "lfitB3_sr = B3_sr.reduceRegion(\n",
    "              reducer=ee.Reducer.linearFit(),\n",
    "              geometry=glint,\n",
    "              scale=10,\n",
    "              #crs = 'EPSG:7844',\n",
    "              #maxPixels =  1000,\n",
    "              bestEffort = True)\n",
    "\n",
    "lfitB4_sr = B3_sr.reduceRegion(\n",
    "              reducer=ee.Reducer.linearFit(),\n",
    "              geometry=glint,\n",
    "              scale=10,\n",
    "              #crs = 'EPSG:7844',\n",
    "              #maxPixels =  1000,\n",
    "              bestEffort = True)\n"
   ]
  },
  {
   "cell_type": "code",
   "execution_count": 239,
   "id": "a078cf9c-7327-44e9-a16f-824563cc55ab",
   "metadata": {},
   "outputs": [],
   "source": [
    "slope_B2_sr = ee.Image.constant(lfitB2_sr.get('scale')).clip(bound).rename('slope_B2')\n",
    "slope_B3_sr = ee.Image.constant(lfitB3_sr.get('scale')).clip(bound).rename('slope_B3')\n",
    "slope_B4_sr = ee.Image.constant(lfitB4_sr.get('scale')).clip(bound).rename('slope_B4')\n",
    "min_B8_sr = ee.Image.constant(S2.select('B8').reduceRegion(ee.Reducer.min(),bound).get('B8')).rename('min_B8')"
   ]
  },
  {
   "cell_type": "code",
   "execution_count": 240,
   "id": "f76be08b-9848-45b5-9f79-0ab22e9dbd61",
   "metadata": {},
   "outputs": [],
   "source": [
    "glint_factors_sr = ee.Image([slope_B2_sr, slope_B3_sr, slope_B4_sr, min_B8_sr])\n",
    "S2_add = S2.addBands(glint_factors_sr)"
   ]
  },
  {
   "cell_type": "code",
   "execution_count": 241,
   "id": "c72654f0-287b-4caa-94c8-f46bc130c2d2",
   "metadata": {},
   "outputs": [],
   "source": [
    "deglint_B2_sr = S2_add.expression(\n",
    "    'Blue - (Slope * (NIR - MinNIR))', {\n",
    "    'Blue': S2_add.select('B2'),\n",
    "    'NIR': S2_add.select('B8'),\n",
    "    'MinNIR': S2_add.select('min_B8'),\n",
    "    'Slope': S2_add.select('slope_B2')\n",
    "}).rename('B2')\n",
    "\n",
    "deglint_B3_sr = S2_add.expression(\n",
    "    'Green - (Slope * (NIR - MinNIR))', {\n",
    "    'Green': S2_add.select('B3'),\n",
    "    'NIR': S2_add.select('B8'),\n",
    "    'MinNIR': S2_add.select('min_B8'),\n",
    "    'Slope': S2_add.select('slope_B3')\n",
    "}).rename('B3')\n",
    "\n",
    "deglint_B4_sr = S2_add.expression(\n",
    "    'Red - (Slope * (NIR - MinNIR))', {\n",
    "    'Red': S2_add.select('B4'),\n",
    "    'NIR': S2_add.select('B8'),\n",
    "    'MinNIR': S2_add.select('min_B8'),\n",
    "    'Slope': S2_add.select('slope_B4')\n",
    "}).rename('B4')\n"
   ]
  },
  {
   "cell_type": "code",
   "execution_count": 242,
   "id": "88b9f9bd-2782-45d1-a76c-8c27ef2d2b55",
   "metadata": {},
   "outputs": [],
   "source": [
    "S2_deglint_sr = ee.Image([deglint_B2_sr, deglint_B3_sr, deglint_B4_sr])"
   ]
  },
  {
   "cell_type": "code",
   "execution_count": 243,
   "id": "1bc19198-e92b-4de0-9582-db503317f237",
   "metadata": {},
   "outputs": [],
   "source": [
    "Map.addLayer(S2_deglint_sr, vis_params, 'Deglint')"
   ]
  },
  {
   "cell_type": "code",
   "execution_count": 245,
   "id": "eb63a27e-379d-4c79-8c18-f8230248bfb9",
   "metadata": {},
   "outputs": [
    {
     "data": {
      "application/vnd.jupyter.widget-view+json": {
       "model_id": "d9242404899248059b3a2f4a3d526dc8",
       "version_major": 2,
       "version_minor": 0
      },
      "text/plain": [
       "Map(center=[20, 0], controls=(ZoomControl(options=['position', 'zoom_in_text', 'zoom_in_title', 'zoom_out_text…"
      ]
     },
     "metadata": {},
     "output_type": "display_data"
    }
   ],
   "source": [
    "vis_rgb = {'bands': ['B4', 'B3', 'B2'], 'min': 0, 'max': 0.2}\n",
    "split_sr = geemap.Map(zoom=15)\n",
    "left_layer_sr = geemap.ee_tile_layer(S2, vis_rgb, name='S2')\n",
    "right_layer_sr = geemap.ee_tile_layer(S2_deglint_sr, vis_rgb, name='Deglint')\n",
    "split_sr.split_map(left_layer_sr, right_layer_sr)\n",
    "split_sr"
   ]
  },
  {
   "cell_type": "code",
   "execution_count": 246,
   "id": "29186c9c-3868-49d4-bdab-fbf807cefc44",
   "metadata": {},
   "outputs": [
    {
     "data": {
      "application/vnd.jupyter.widget-view+json": {
       "model_id": "38a8589bbd3d4ff1a9d706f5def43b63",
       "version_major": 2,
       "version_minor": 0
      },
      "text/plain": [
       "Map(center=[-33.440198013878586, 115.34745881013788], controls=(WidgetControl(options=['position', 'transparen…"
      ]
     },
     "metadata": {},
     "output_type": "display_data"
    }
   ],
   "source": [
    "Map_bath = geemap.Map(zoom=4, toolbar_ctrl=True, layer_ctrl=True)\n",
    "Map_bath.add_basemap('HYBRID')\n",
    "Map_bath.add_minimap(zoom=6)\n",
    "Map_bath.centerObject(bound.geometry(), 12)\n",
    "Map_bath.addLayer(S2_deglint_sr, vis_params, 'S2 deglint')\n",
    "Map_bath.addLayer(bathy_ee,bath_vis, 'Bathy')\n",
    "Map_bath.addLayer(bound,{}, 'Bound')\n",
    "Map_bath"
   ]
  },
  {
   "cell_type": "code",
   "execution_count": 247,
   "id": "b1c35d50-63a0-4907-991e-eac715719b05",
   "metadata": {},
   "outputs": [],
   "source": [
    "S2_deglint_sr_log = (\n",
    "                    S2_deglint_sr\n",
    "                    .log()\n",
    "                    )"
   ]
  },
  {
   "cell_type": "code",
   "execution_count": 248,
   "id": "feefa79f-b3ee-45b9-b61b-9259d6859b87",
   "metadata": {},
   "outputs": [],
   "source": [
    "S2_deglint_sr_add = S2_deglint_sr_log.addBands(bathy_ee)"
   ]
  },
  {
   "cell_type": "code",
   "execution_count": 249,
   "id": "2254e26d-06d3-4d56-9485-1c288f626279",
   "metadata": {},
   "outputs": [],
   "source": [
    "Map_bath.draw_features\n",
    "bath_dat = ee.FeatureCollection(Map_bath.draw_features)\n",
    "Map_bath.addLayer(bath_dat, {}, 'bath poly')\n",
    "Map_bath.remove_drawn_features()"
   ]
  },
  {
   "cell_type": "code",
   "execution_count": 291,
   "id": "9a1345d0-26bf-48ab-9265-cff5e5d4a7c4",
   "metadata": {},
   "outputs": [
    {
     "name": "stdout",
     "output_type": "stream",
     "text": [
      "Generating URL ...\n",
      "Downloading data from https://earthengine.googleapis.com/v1alpha/projects/earthengine-legacy/tables/fd1ab035b69fe2d987da61e051aa160f-0747af670e8e5eaa743d4d3d070560fd:getFeatures\n",
      "Please wait ...\n",
      "Data downloaded to C:\\Users\\00097030\\LocalData\\Git\\Notebooks\\parks-geographe\\data\\spatial\\rasters\\SDB Test data\\SDB\\Test Polys\\Test_pols.shp\n"
     ]
    }
   ],
   "source": [
    "geemap.ee_to_shp(bath_dat, filename=r'C:\\Users\\00097030\\LocalData\\Git\\Notebooks\\parks-geographe\\data\\spatial\\rasters\\SDB Test data\\SDB\\Test Polys\\Test_pols.shp')"
   ]
  },
  {
   "cell_type": "code",
   "execution_count": 250,
   "id": "b010130d-a398-4635-ba09-f68178a83072",
   "metadata": {},
   "outputs": [],
   "source": [
    "constant = ee.Image(1)\n",
    "xVar = S2_deglint_sr_add.select(['B2' , 'B3'])\n",
    "yVar = S2_deglint_sr_add.select('B0')\n",
    "\n",
    "imgRegress = ee.Image.cat(constant, xVar, yVar)"
   ]
  },
  {
   "cell_type": "code",
   "execution_count": 251,
   "id": "3b735ae9-37cf-4ca9-98b4-649b6ec063b2",
   "metadata": {},
   "outputs": [
    {
     "data": {
      "text/plain": [
       "{'max': {'B0': -5.840000152587891,\n",
       "  'B2': -2.4672767118602947,\n",
       "  'B3': -2.7366951971666484,\n",
       "  'constant': 1},\n",
       " 'mean': {'B0': -15.723884419626756,\n",
       "  'B2': -3.2804643492150842,\n",
       "  'B3': -3.4866517976770575,\n",
       "  'constant': 1},\n",
       " 'min': {'B0': -35.810001373291016,\n",
       "  'B2': -3.548363378699692,\n",
       "  'B3': -4.010420592745215,\n",
       "  'constant': 1},\n",
       " 'std': {'B0': 4.00481733371197,\n",
       "  'B2': 0.11307816661693082,\n",
       "  'B3': 0.15177751444611098,\n",
       "  'constant': 0},\n",
       " 'sum': {'B0': -4830993.916627774,\n",
       "  'B2': -1007961.0977552054,\n",
       "  'B3': -1071314.6065183177,\n",
       "  'constant': 307261.7137254913}}"
      ]
     },
     "execution_count": 251,
     "metadata": {},
     "output_type": "execute_result"
    }
   ],
   "source": [
    "im_stats = geemap.image_stats(imgRegress, region = bath_dat, scale=10)\n",
    "im_stats.getInfo()"
   ]
  },
  {
   "cell_type": "code",
   "execution_count": 252,
   "id": "95ef78ab-cbd1-40ff-b17b-8d161587463f",
   "metadata": {},
   "outputs": [],
   "source": [
    "linearRegression = imgRegress.reduceRegion(\n",
    "                   reducer = ee.Reducer.linearRegression(numX= 3, numY= 1),\n",
    "                   geometry = bath_dat,\n",
    "                   scale= 10\n",
    "                  )\n"
   ]
  },
  {
   "cell_type": "code",
   "execution_count": 253,
   "id": "cf0a1216-4fb9-4b60-95ae-8267ea2934de",
   "metadata": {},
   "outputs": [],
   "source": [
    "coefList = ee.Array(linearRegression.get('coefficients')).toList()"
   ]
  },
  {
   "cell_type": "code",
   "execution_count": 254,
   "id": "cbff96c1-cb70-4394-89c7-405b91a56548",
   "metadata": {},
   "outputs": [
    {
     "name": "stdout",
     "output_type": "stream",
     "text": [
      "OLS estimates {'coefficients': [[0.5593856475591905], [-20.668242557119786], [24.115127494125073]], 'residuals': [2.788052240273139]}\n",
      "y-intercept: 0.5593856475490829\n",
      "Slope: -20.668242557123037\n",
      "Slope: 24.11512749412605\n"
     ]
    }
   ],
   "source": [
    "b0 = ee.List(coefList.get(0)).get(0).getInfo()\n",
    "b1 = ee.List(coefList.get(1)).get(0).getInfo()\n",
    "b2 = ee.List(coefList.get(2)).get(0).getInfo()\n",
    "\n",
    "print('OLS estimates', linearRegression.getInfo())\n",
    "print('y-intercept:', b0)\n",
    "print('Slope:', b1)\n",
    "print('Slope:', b2)"
   ]
  },
  {
   "cell_type": "code",
   "execution_count": 255,
   "id": "503a3402-3478-410f-b875-ae5f77c7c808",
   "metadata": {},
   "outputs": [],
   "source": [
    "b0_int = ee.Image(b0).clip(bound).rename('Intercept')\n",
    "b2_s = ee.Image(b1).clip(bound).rename('B2 Slope')\n",
    "b3_s = ee.Image(b2).clip(bound).rename('B3 Slope')\n",
    "b2 = ee.Image(S2_deglint_sr_add.select('B2')).clip(bound).rename('B2')\n",
    "b3 = ee.Image(S2_deglint_sr_add.select('B3')).clip(bound).rename('B3')"
   ]
  },
  {
   "cell_type": "code",
   "execution_count": 256,
   "id": "0bb98c34-efb5-41b5-b1e5-5c42099263d1",
   "metadata": {},
   "outputs": [],
   "source": [
    "bath_factors = ee.Image.cat(b0_int, b2_s, b3_s, b2, b3)\n",
    "#S2_deglint_sr_add.addBands(bath_factors)"
   ]
  },
  {
   "cell_type": "code",
   "execution_count": 257,
   "id": "d088114d-f8bd-4738-965d-53b9de36658c",
   "metadata": {},
   "outputs": [
    {
     "name": "stdout",
     "output_type": "stream",
     "text": [
      "{'type': 'Polygon', 'coordinates': [[[-180, -90], [180, -90], [180, 90], [-180, 90], [-180, -90]]]}\n",
      "{'type': 'Polygon', 'coordinates': [[[-180, -90], [180, -90], [180, 90], [-180, 90], [-180, -90]]]}\n"
     ]
    }
   ],
   "source": [
    "print(bath_factors.geometry().getInfo())\n",
    "print(S2_deglint_sr_add.geometry().getInfo())"
   ]
  },
  {
   "cell_type": "code",
   "execution_count": null,
   "id": "d6a0754f-cbd9-461e-a40d-5ca06bf5fbf3",
   "metadata": {},
   "outputs": [],
   "source": [
    "im_stats = geemap.image_stats(bath_factors, region = bound, scale=10)\n",
    "im_stats.getInfo()"
   ]
  },
  {
   "cell_type": "code",
   "execution_count": 258,
   "id": "37f88f8e-a30d-435d-b070-8780caa8a735",
   "metadata": {},
   "outputs": [],
   "source": [
    "SDB = bath_factors.expression(\n",
    "    'Intercept + (B2_Slope * Blue) + (B3_Slope * Red)', {\n",
    "    'Blue': bath_factors.select('B2'),\n",
    "    'Red': bath_factors.select('B3'),\n",
    "    'B2_Slope': bath_factors.select('B2 Slope'),\n",
    "    'B3_Slope': bath_factors.select('B3 Slope'),\n",
    "    'Intercept' : bath_factors.select('Intercept')\n",
    "}).rename('SBD')\n"
   ]
  },
  {
   "cell_type": "code",
   "execution_count": null,
   "id": "5bb2b560-c6f6-4e74-9b8e-4284687d79f3",
   "metadata": {},
   "outputs": [],
   "source": [
    "im_stats = geemap.image_stats(SDB, region = bound, scale=10)\n",
    "im_stats.getInfo()"
   ]
  },
  {
   "cell_type": "code",
   "execution_count": 260,
   "id": "94875b6f-f7b5-4b2e-920d-68e16f70722b",
   "metadata": {},
   "outputs": [
    {
     "data": {
      "application/vnd.jupyter.widget-view+json": {
       "model_id": "fbb6579ee3704aa3abfe46daf859e18d",
       "version_major": 2,
       "version_minor": 0
      },
      "text/plain": [
       "Map(center=[-33.440198013878586, 115.34745881013788], controls=(WidgetControl(options=['position', 'transparen…"
      ]
     },
     "metadata": {},
     "output_type": "display_data"
    }
   ],
   "source": [
    "sdb_vis = { 'min': -50, 'max': 3.5, 'palette': ['red','orange','yellow', 'green']}\n",
    "\n",
    "Map_sdb = geemap.Map(zoom=4, toolbar_ctrl=True, layer_ctrl=True)\n",
    "Map_sdb.add_basemap('HYBRID')\n",
    "Map_sdb.add_minimap(zoom=6)\n",
    "Map_sdb.centerObject(bound.geometry(), 12)\n",
    "#Map_bath.addLayer(S2_deglint_sr, vis_params, 'S2 deglint')\n",
    "Map_sdb.addLayer(bathy_ee,bath_vis, 'Bathy')\n",
    "Map_sdb.addLayer(SDB,sdb_vis, 'SDB')\n",
    "Map_sdb.addLayer(S2_deglint_sr, vis_params, 'S2 deglint')\n",
    "#Map_bath.addLayer(bound,{}, 'Bound')\n",
    "#Map_glint.addLayer(S2, vis_toa, 'Sentinel-2 BOA')\n",
    "Map_sdb\n"
   ]
  },
  {
   "cell_type": "code",
   "execution_count": null,
   "id": "b9228d27-5f6b-4f55-a5c7-cc92ac9389c2",
   "metadata": {},
   "outputs": [],
   "source": [
    "Map_sdb.addLayer(SDB, vis_sdb, 'fit')"
   ]
  },
  {
   "cell_type": "code",
   "execution_count": 266,
   "id": "0bd555d0-6d12-4cf8-a0e2-d4069e18bb7b",
   "metadata": {},
   "outputs": [],
   "source": [
    "fishnet = geemap.fishnet(bound, h_interval=0.3, v_interval=0.3, delta=1)"
   ]
  },
  {
   "cell_type": "code",
   "execution_count": 269,
   "id": "fbeb8e08-485c-4ded-825c-e6999289d99e",
   "metadata": {},
   "outputs": [],
   "source": [
    "out_dir = os.path.join(os.getcwd(), 'data\\\\spatial\\\\rasters\\\\SDB Test data\\\\SDB')"
   ]
  },
  {
   "cell_type": "code",
   "execution_count": 270,
   "id": "fb4b8cae-b3de-4207-b4be-30f480572a0b",
   "metadata": {},
   "outputs": [
    {
     "data": {
      "text/plain": [
       "'C:\\\\Users\\\\00097030\\\\LocalData\\\\Git\\\\Notebooks\\\\parks-geographe\\\\parks-geographe\\\\data\\\\spatial\\\\rasters\\\\SDB Test data\\\\SDB'"
      ]
     },
     "execution_count": 270,
     "metadata": {},
     "output_type": "execute_result"
    }
   ],
   "source": [
    "out_dir"
   ]
  },
  {
   "cell_type": "code",
   "execution_count": 271,
   "id": "cfef661a-8576-473c-bde5-4642305b1f0e",
   "metadata": {},
   "outputs": [
    {
     "name": "stdout",
     "output_type": "stream",
     "text": [
      "Downloading 1/6: C:\\Users\\00097030\\LocalData\\Git\\Notebooks\\parks-geographe\\parks-geographe\\data\\spatial\\rasters\\SDB Test data\\SDB\\SDB_1.tif\n"
     ]
    },
    {
     "data": {
      "application/vnd.jupyter.widget-view+json": {
       "model_id": "a06269dd182f4b4d9ac775dc084edeab",
       "version_major": 2,
       "version_minor": 0
      },
      "text/plain": [
       "SDB_1.tif: |                                                          | 0.00/77.0M (raw) [  0.0%] in 00:00 (et…"
      ]
     },
     "metadata": {},
     "output_type": "display_data"
    },
    {
     "name": "stdout",
     "output_type": "stream",
     "text": [
      "Downloading 2/6: C:\\Users\\00097030\\LocalData\\Git\\Notebooks\\parks-geographe\\parks-geographe\\data\\spatial\\rasters\\SDB Test data\\SDB\\SDB_2.tif\n"
     ]
    },
    {
     "data": {
      "application/vnd.jupyter.widget-view+json": {
       "model_id": "74e62cc6989a40bc9456c818f7f4d3f0",
       "version_major": 2,
       "version_minor": 0
      },
      "text/plain": [
       "SDB_2.tif: |                                                          | 0.00/76.5M (raw) [  0.0%] in 00:00 (et…"
      ]
     },
     "metadata": {},
     "output_type": "display_data"
    },
    {
     "name": "stdout",
     "output_type": "stream",
     "text": [
      "Downloading 3/6: C:\\Users\\00097030\\LocalData\\Git\\Notebooks\\parks-geographe\\parks-geographe\\data\\spatial\\rasters\\SDB Test data\\SDB\\SDB_3.tif\n"
     ]
    },
    {
     "data": {
      "application/vnd.jupyter.widget-view+json": {
       "model_id": "7f89c2c78f6741aeaa5a5b7e77745ab6",
       "version_major": 2,
       "version_minor": 0
      },
      "text/plain": [
       "SDB_3.tif: |                                                          | 0.00/76.1M (raw) [  0.0%] in 00:00 (et…"
      ]
     },
     "metadata": {},
     "output_type": "display_data"
    },
    {
     "name": "stdout",
     "output_type": "stream",
     "text": [
      "Downloading 4/6: C:\\Users\\00097030\\LocalData\\Git\\Notebooks\\parks-geographe\\parks-geographe\\data\\spatial\\rasters\\SDB Test data\\SDB\\SDB_4.tif\n"
     ]
    },
    {
     "data": {
      "application/vnd.jupyter.widget-view+json": {
       "model_id": "a4c04c408e1f4cbc80657c7ee6839341",
       "version_major": 2,
       "version_minor": 0
      },
      "text/plain": [
       "SDB_4.tif: |                                                          | 0.00/77.2M (raw) [  0.0%] in 00:00 (et…"
      ]
     },
     "metadata": {},
     "output_type": "display_data"
    },
    {
     "name": "stdout",
     "output_type": "stream",
     "text": [
      "Downloading 5/6: C:\\Users\\00097030\\LocalData\\Git\\Notebooks\\parks-geographe\\parks-geographe\\data\\spatial\\rasters\\SDB Test data\\SDB\\SDB_5.tif\n"
     ]
    },
    {
     "data": {
      "application/vnd.jupyter.widget-view+json": {
       "model_id": "5402034bba514a638e258851366cdb56",
       "version_major": 2,
       "version_minor": 0
      },
      "text/plain": [
       "SDB_5.tif: |                                                          | 0.00/76.8M (raw) [  0.0%] in 00:00 (et…"
      ]
     },
     "metadata": {},
     "output_type": "display_data"
    },
    {
     "name": "stdout",
     "output_type": "stream",
     "text": [
      "Downloading 6/6: C:\\Users\\00097030\\LocalData\\Git\\Notebooks\\parks-geographe\\parks-geographe\\data\\spatial\\rasters\\SDB Test data\\SDB\\SDB_6.tif\n"
     ]
    },
    {
     "data": {
      "application/vnd.jupyter.widget-view+json": {
       "model_id": "2f2cc876950b42fb8abff5a6b11b0ffe",
       "version_major": 2,
       "version_minor": 0
      },
      "text/plain": [
       "SDB_6.tif: |                                                          | 0.00/76.3M (raw) [  0.0%] in 00:00 (et…"
      ]
     },
     "metadata": {},
     "output_type": "display_data"
    }
   ],
   "source": [
    "geemap.download_ee_image_tiles(\n",
    "    SDB, fishnet,out_dir, prefix=\"SDB_\", crs=\"EPSG:32750\", scale=10, overwrite=True\n",
    ")"
   ]
  },
  {
   "cell_type": "code",
   "execution_count": 275,
   "id": "54ec8b81-398e-43ab-ad06-f8383b043155",
   "metadata": {},
   "outputs": [],
   "source": [
    "out_dir_tiles = os.path.join(os.getcwd(), 'data\\\\spatial\\\\rasters\\\\SDB Test data\\\\SDB') "
   ]
  },
  {
   "cell_type": "code",
   "execution_count": 276,
   "id": "bf2a4d4d-6e21-4855-8ebd-00edf996bc20",
   "metadata": {},
   "outputs": [
    {
     "data": {
      "text/plain": [
       "'C:\\\\Users\\\\00097030\\\\LocalData\\\\Git\\\\Notebooks\\\\parks-geographe\\\\data\\\\spatial\\\\rasters\\\\SDB Test data\\\\SDB'"
      ]
     },
     "execution_count": 276,
     "metadata": {},
     "output_type": "execute_result"
    }
   ],
   "source": [
    "out_dir_tiles"
   ]
  },
  {
   "cell_type": "code",
   "execution_count": 277,
   "id": "069ad124-a441-4472-9345-69d0536bd285",
   "metadata": {},
   "outputs": [
    {
     "data": {
      "text/plain": [
       "['C:\\\\Users\\\\00097030\\\\LocalData\\\\Git\\\\Notebooks\\\\parks-geographe\\\\data\\\\spatial\\\\rasters\\\\SDB Test data\\\\SDB\\\\SDB_1.tif',\n",
       " 'C:\\\\Users\\\\00097030\\\\LocalData\\\\Git\\\\Notebooks\\\\parks-geographe\\\\data\\\\spatial\\\\rasters\\\\SDB Test data\\\\SDB\\\\SDB_2.tif',\n",
       " 'C:\\\\Users\\\\00097030\\\\LocalData\\\\Git\\\\Notebooks\\\\parks-geographe\\\\data\\\\spatial\\\\rasters\\\\SDB Test data\\\\SDB\\\\SDB_3.tif',\n",
       " 'C:\\\\Users\\\\00097030\\\\LocalData\\\\Git\\\\Notebooks\\\\parks-geographe\\\\data\\\\spatial\\\\rasters\\\\SDB Test data\\\\SDB\\\\SDB_4.tif',\n",
       " 'C:\\\\Users\\\\00097030\\\\LocalData\\\\Git\\\\Notebooks\\\\parks-geographe\\\\data\\\\spatial\\\\rasters\\\\SDB Test data\\\\SDB\\\\SDB_5.tif',\n",
       " 'C:\\\\Users\\\\00097030\\\\LocalData\\\\Git\\\\Notebooks\\\\parks-geographe\\\\data\\\\spatial\\\\rasters\\\\SDB Test data\\\\SDB\\\\SDB_6.tif']"
      ]
     },
     "execution_count": 277,
     "metadata": {},
     "output_type": "execute_result"
    }
   ],
   "source": [
    "bath_to_mosaic = glob.glob(out_dir_tiles +'//*.tif')\n",
    "bath_to_mosaic"
   ]
  },
  {
   "cell_type": "code",
   "execution_count": 15,
   "id": "5e76ca1b-2693-495d-8ccd-930dc84b9ce2",
   "metadata": {},
   "outputs": [],
   "source": [
    "bathmos = os.path.join(os.getcwd(),'data\\\\spatial\\\\rasters\\\\SDB Test data\\\\SDB\\\\Mosaic\\\\SDB_mos.tif')  "
   ]
  },
  {
   "cell_type": "code",
   "execution_count": 288,
   "id": "2a171ee9-dbbd-4eb8-bda4-705e0faa5433",
   "metadata": {},
   "outputs": [],
   "source": [
    "xres=10\n",
    "yres=10\n",
    "NODATA_VALUE = -9999\n",
    "#'EPSG:32750'\n",
    "res = (\n",
    "        gdal.Warp(bathmos, bath_to_mosaic, srcSRS = 'EPSG:32750', dstNodata = NODATA_VALUE,\n",
    "                 dstSRS = 'EPSG:32750' ,\n",
    "                 xRes=xres, yRes=yres, resampleAlg=gdalconst.GRA_Cubic)\n",
    "        )\n",
    "res = None"
   ]
  },
  {
   "cell_type": "code",
   "execution_count": 4,
   "id": "4f8d3713-ffd4-444e-bac9-ac12490eeece",
   "metadata": {},
   "outputs": [],
   "source": [
    "SDB_mos = rasterio.open(bathmos)"
   ]
  },
  {
   "cell_type": "code",
   "execution_count": 5,
   "id": "4078dd0f-ae03-4b85-9757-07fcdedcf6c5",
   "metadata": {},
   "outputs": [
    {
     "data": {
      "image/png": "[encoded data removed]",
      "text/plain": [
       "<Figure size 432x288 with 1 Axes>"
      ]
     },
     "metadata": {
      "needs_background": "light"
     },
     "output_type": "display_data"
    },
    {
     "data": {
      "text/plain": [
       "<AxesSubplot:>"
      ]
     },
     "execution_count": 5,
     "metadata": {},
     "output_type": "execute_result"
    }
   ],
   "source": [
    "show(SDB_mos)"
   ]
  },
  {
   "cell_type": "code",
   "execution_count": 3,
   "id": "20f245bf-2e6b-4897-b685-c0a73221d5d2",
   "metadata": {},
   "outputs": [],
   "source": [
    "shapefile = gpd.read_file(r\"C:\\Users\\00097030\\LocalData\\Git\\Notebooks\\parks-geographe\\data\\spatial\\rasters\\SDB Test data\\SDB\\Test Polys\\Test_pols.shp\").set_crs(epsg=4326, allow_override=True).to_crs(epsg = 32750)"
   ]
  },
  {
   "cell_type": "code",
   "execution_count": 4,
   "id": "4f567c28-046b-4007-888e-63b5edbb7a99",
   "metadata": {},
   "outputs": [
    {
     "data": {
      "text/plain": [
       "<Derived Projected CRS: EPSG:32750>\n",
       "Name: WGS 84 / UTM zone 50S\n",
       "Axis Info [cartesian]:\n",
       "- E[east]: Easting (metre)\n",
       "- N[north]: Northing (metre)\n",
       "Area of Use:\n",
       "- name: Between 114°E and 120°E, southern hemisphere between 80°S and equator, onshore and offshore. Australia. Indonesia.\n",
       "- bounds: (114.0, -80.0, 120.0, 0.0)\n",
       "Coordinate Operation:\n",
       "- name: UTM zone 50S\n",
       "- method: Transverse Mercator\n",
       "Datum: World Geodetic System 1984 ensemble\n",
       "- Ellipsoid: WGS 84\n",
       "- Prime Meridian: Greenwich"
      ]
     },
     "execution_count": 4,
     "metadata": {},
     "output_type": "execute_result"
    }
   ],
   "source": [
    "shapefile.crs"
   ]
  },
  {
   "cell_type": "code",
   "execution_count": 5,
   "id": "c42a73be-021c-4a09-9d20-f3a003c4138c",
   "metadata": {},
   "outputs": [
    {
     "data": {
      "text/plain": [
       "0    POLYGON ((342295.229 6282988.686, 342271.810 6...\n",
       "1    POLYGON ((317896.959 6287127.532, 317859.138 6...\n",
       "2    POLYGON ((315766.912 6288452.178, 315732.909 6...\n",
       "3    POLYGON ((367412.322 6320043.410, 367400.613 6...\n",
       "Name: geometry, dtype: geometry"
      ]
     },
     "execution_count": 5,
     "metadata": {},
     "output_type": "execute_result"
    }
   ],
   "source": [
    "shapefile.geometry"
   ]
  },
  {
   "cell_type": "code",
   "execution_count": 6,
   "id": "7428bde0-9593-4a79-9eb4-e48f35890eb6",
   "metadata": {},
   "outputs": [
    {
     "name": "stdout",
     "output_type": "stream",
     "text": [
      "<class 'geopandas.geodataframe.GeoDataFrame'>\n",
      "RangeIndex: 4 entries, 0 to 3\n",
      "Data columns (total 1 columns):\n",
      " #   Column    Non-Null Count  Dtype   \n",
      "---  ------    --------------  -----   \n",
      " 0   geometry  4 non-null      geometry\n",
      "dtypes: geometry(1)\n",
      "memory usage: 160.0 bytes\n"
     ]
    }
   ],
   "source": [
    "shapefile.info()"
   ]
  },
  {
   "cell_type": "code",
   "execution_count": 12,
   "id": "e9fa2e88-5ee7-4fe2-a7b0-7de82d53d833",
   "metadata": {},
   "outputs": [],
   "source": [
    "def sample_geoseries(geoseries, size, overestimate=2):\n",
    "    polygon = geoseries.unary_union\n",
    "    min_x, min_y, max_x, max_y = polygon.bounds\n",
    "    ratio = polygon.area / polygon.envelope.area\n",
    "    samples = np.random.uniform((min_x, min_y), (max_x, max_y), (int(size / ratio * overestimate), 2))\n",
    "    multipoint = shapely.geometry.MultiPoint(samples)\n",
    "    multipoint = multipoint.intersection(polygon)\n",
    "    samples = np.array(multipoint)\n",
    "    while samples.shape[0] < size:\n",
    "        # emergency catch in case by bad luck we didn't get enough within the polygon\n",
    "        samples = np.concatenate([samples, random_points_in_polygon(polygon, size, overestimate=overestimate)])\n",
    "    return samples[np.random.choice(len(samples), size)]\n"
   ]
  },
  {
   "cell_type": "code",
   "execution_count": 13,
   "id": "f646c39a-7001-4a5b-8396-f5ed82ab0247",
   "metadata": {},
   "outputs": [],
   "source": [
    "points = sample_geoseries(shapefile['geometry'], 500)"
   ]
  },
  {
   "cell_type": "code",
   "execution_count": 24,
   "id": "834c5356-2a39-4419-9ae5-6af554dfa510",
   "metadata": {},
   "outputs": [
    {
     "data": {
      "text/plain": [
       "array([[ 318311.48122068, 6288368.14681532],\n",
       "       [ 367451.21547402, 6320372.12691869],\n",
       "       [ 370652.20142178, 6320204.98601846],\n",
       "       [ 373725.23691661, 6320910.02839498],\n",
       "       [ 368416.76825374, 6320246.55534466],\n",
       "       [ 343673.06348957, 6283477.67464792],\n",
       "       [ 347818.01636691, 6284025.09457159],\n",
       "       [ 372365.06552671, 6320328.48681808],\n",
       "       [ 346176.40997898, 6284276.91967995],\n",
       "       [ 344299.07440748, 6284211.86199387]])"
      ]
     },
     "execution_count": 24,
     "metadata": {},
     "output_type": "execute_result"
    }
   ],
   "source": [
    "points[:10,]"
   ]
  },
  {
   "cell_type": "code",
   "execution_count": 33,
   "id": "0dd8a9e2-1b80-4942-a0cb-ff192bfa45f5",
   "metadata": {},
   "outputs": [
    {
     "data": {
      "text/html": [
       "<div>\n",
       "<style scoped>\n",
       "    .dataframe tbody tr th:only-of-type {\n",
       "        vertical-align: middle;\n",
       "    }\n",
       "\n",
       "    .dataframe tbody tr th {\n",
       "        vertical-align: top;\n",
       "    }\n",
       "\n",
       "    .dataframe thead th {\n",
       "        text-align: right;\n",
       "    }\n",
       "</style>\n",
       "<table border=\"1\" class=\"dataframe\">\n",
       "  <thead>\n",
       "    <tr style=\"text-align: right;\">\n",
       "      <th></th>\n",
       "      <th>x</th>\n",
       "      <th>y</th>\n",
       "    </tr>\n",
       "  </thead>\n",
       "  <tbody>\n",
       "    <tr>\n",
       "      <th>0</th>\n",
       "      <td>318311.481221</td>\n",
       "      <td>6.288368e+06</td>\n",
       "    </tr>\n",
       "    <tr>\n",
       "      <th>1</th>\n",
       "      <td>367451.215474</td>\n",
       "      <td>6.320372e+06</td>\n",
       "    </tr>\n",
       "    <tr>\n",
       "      <th>2</th>\n",
       "      <td>370652.201422</td>\n",
       "      <td>6.320205e+06</td>\n",
       "    </tr>\n",
       "    <tr>\n",
       "      <th>3</th>\n",
       "      <td>373725.236917</td>\n",
       "      <td>6.320910e+06</td>\n",
       "    </tr>\n",
       "    <tr>\n",
       "      <th>4</th>\n",
       "      <td>368416.768254</td>\n",
       "      <td>6.320247e+06</td>\n",
       "    </tr>\n",
       "  </tbody>\n",
       "</table>\n",
       "</div>"
      ],
      "text/plain": [
       "               x             y\n",
       "0  318311.481221  6.288368e+06\n",
       "1  367451.215474  6.320372e+06\n",
       "2  370652.201422  6.320205e+06\n",
       "3  373725.236917  6.320910e+06\n",
       "4  368416.768254  6.320247e+06"
      ]
     },
     "execution_count": 33,
     "metadata": {},
     "output_type": "execute_result"
    }
   ],
   "source": [
    "df = pd.DataFrame({'x': points[:,0], 'y': points[:,1]})\n",
    "df.head()"
   ]
  },
  {
   "cell_type": "code",
   "execution_count": 36,
   "id": "df7d04a7-a1c2-493c-a28a-95ec6e1b5998",
   "metadata": {},
   "outputs": [],
   "source": [
    "geometry = gpd.points_from_xy(df['x'], df['y'])\n",
    "gdf = gpd.GeoDataFrame(\n",
    "    df, geometry=gpd.points_from_xy(df['x'], df['y']))"
   ]
  },
  {
   "cell_type": "code",
   "execution_count": 38,
   "id": "956bf503-4809-4f9a-bb53-7e2f0c42f62d",
   "metadata": {},
   "outputs": [
    {
     "data": {
      "text/plain": [
       "<AxesSubplot:>"
      ]
     },
     "execution_count": 38,
     "metadata": {},
     "output_type": "execute_result"
    },
    {
     "data": {
      "image/png": "[encoded data removed]",
      "text/plain": [
       "<Figure size 432x288 with 1 Axes>"
      ]
     },
     "metadata": {
      "needs_background": "light"
     },
     "output_type": "display_data"
    }
   ],
   "source": [
    "gdf.plot()"
   ]
  },
  {
   "cell_type": "code",
   "execution_count": 40,
   "id": "1635f4a6-996d-40b6-b422-d40650fd55de",
   "metadata": {},
   "outputs": [],
   "source": [
    "src_sdb = rasterio.open(bathmos)\n",
    "# Sample the raster at every point location and store values in DataFrame\n",
    "#gdf['SDB'] = [x for x in src_sdb.sample(points)]\n",
    "gdf['SDB'] = [x[0] for x in src_sdb.sample(points)]"
   ]
  },
  {
   "cell_type": "code",
   "execution_count": 44,
   "id": "1db38144-b11e-4a3a-a78e-82535c784f3c",
   "metadata": {},
   "outputs": [],
   "source": [
    "src_lid = rasterio.open(outmos)\n",
    "gdf['lidar'] = [x[0] for x in src_lid.sample(points)]"
   ]
  },
  {
   "cell_type": "code",
   "execution_count": 45,
   "id": "26215443-fd35-43fa-a912-b4b9aa12c846",
   "metadata": {},
   "outputs": [
    {
     "data": {
      "text/html": [
       "<div>\n",
       "<style scoped>\n",
       "    .dataframe tbody tr th:only-of-type {\n",
       "        vertical-align: middle;\n",
       "    }\n",
       "\n",
       "    .dataframe tbody tr th {\n",
       "        vertical-align: top;\n",
       "    }\n",
       "\n",
       "    .dataframe thead th {\n",
       "        text-align: right;\n",
       "    }\n",
       "</style>\n",
       "<table border=\"1\" class=\"dataframe\">\n",
       "  <thead>\n",
       "    <tr style=\"text-align: right;\">\n",
       "      <th></th>\n",
       "      <th>x</th>\n",
       "      <th>y</th>\n",
       "      <th>geometry</th>\n",
       "      <th>SDB</th>\n",
       "      <th>lidar</th>\n",
       "    </tr>\n",
       "  </thead>\n",
       "  <tbody>\n",
       "    <tr>\n",
       "      <th>0</th>\n",
       "      <td>318311.481221</td>\n",
       "      <td>6.288368e+06</td>\n",
       "      <td>POINT (318311.481 6288368.147)</td>\n",
       "      <td>-19.574816</td>\n",
       "      <td>-20.389999</td>\n",
       "    </tr>\n",
       "    <tr>\n",
       "      <th>1</th>\n",
       "      <td>367451.215474</td>\n",
       "      <td>6.320372e+06</td>\n",
       "      <td>POINT (367451.215 6320372.127)</td>\n",
       "      <td>-16.727447</td>\n",
       "      <td>-22.760000</td>\n",
       "    </tr>\n",
       "    <tr>\n",
       "      <th>2</th>\n",
       "      <td>370652.201422</td>\n",
       "      <td>6.320205e+06</td>\n",
       "      <td>POINT (370652.201 6320204.986)</td>\n",
       "      <td>-16.843718</td>\n",
       "      <td>-19.370001</td>\n",
       "    </tr>\n",
       "    <tr>\n",
       "      <th>3</th>\n",
       "      <td>373725.236917</td>\n",
       "      <td>6.320910e+06</td>\n",
       "      <td>POINT (373725.237 6320910.028)</td>\n",
       "      <td>-13.887700</td>\n",
       "      <td>-14.150000</td>\n",
       "    </tr>\n",
       "    <tr>\n",
       "      <th>4</th>\n",
       "      <td>368416.768254</td>\n",
       "      <td>6.320247e+06</td>\n",
       "      <td>POINT (368416.768 6320246.555)</td>\n",
       "      <td>-18.294212</td>\n",
       "      <td>-21.760000</td>\n",
       "    </tr>\n",
       "  </tbody>\n",
       "</table>\n",
       "</div>"
      ],
      "text/plain": [
       "               x             y                        geometry        SDB  \\\n",
       "0  318311.481221  6.288368e+06  POINT (318311.481 6288368.147) -19.574816   \n",
       "1  367451.215474  6.320372e+06  POINT (367451.215 6320372.127) -16.727447   \n",
       "2  370652.201422  6.320205e+06  POINT (370652.201 6320204.986) -16.843718   \n",
       "3  373725.236917  6.320910e+06  POINT (373725.237 6320910.028) -13.887700   \n",
       "4  368416.768254  6.320247e+06  POINT (368416.768 6320246.555) -18.294212   \n",
       "\n",
       "       lidar  \n",
       "0 -20.389999  \n",
       "1 -22.760000  \n",
       "2 -19.370001  \n",
       "3 -14.150000  \n",
       "4 -21.760000  "
      ]
     },
     "execution_count": 45,
     "metadata": {},
     "output_type": "execute_result"
    }
   ],
   "source": [
    "gdf.head()"
   ]
  },
  {
   "cell_type": "code",
   "execution_count": 48,
   "id": "8e675b36-736a-43a4-8380-51d7bb0424dd",
   "metadata": {},
   "outputs": [],
   "source": [
    "subdf = gdf[gdf['SDB'].notna()]\n",
    "subdf = subdf[subdf['lidar'].notna()]"
   ]
  },
  {
   "cell_type": "code",
   "execution_count": 49,
   "id": "e75a3243-cce4-4435-b85b-ef751ccd20e9",
   "metadata": {},
   "outputs": [
    {
     "data": {
      "text/html": [
       "<div>\n",
       "<style scoped>\n",
       "    .dataframe tbody tr th:only-of-type {\n",
       "        vertical-align: middle;\n",
       "    }\n",
       "\n",
       "    .dataframe tbody tr th {\n",
       "        vertical-align: top;\n",
       "    }\n",
       "\n",
       "    .dataframe thead th {\n",
       "        text-align: right;\n",
       "    }\n",
       "</style>\n",
       "<table border=\"1\" class=\"dataframe\">\n",
       "  <thead>\n",
       "    <tr style=\"text-align: right;\">\n",
       "      <th></th>\n",
       "      <th>x</th>\n",
       "      <th>y</th>\n",
       "      <th>geometry</th>\n",
       "      <th>SDB</th>\n",
       "      <th>lidar</th>\n",
       "    </tr>\n",
       "  </thead>\n",
       "  <tbody>\n",
       "    <tr>\n",
       "      <th>0</th>\n",
       "      <td>318311.481221</td>\n",
       "      <td>6.288368e+06</td>\n",
       "      <td>POINT (318311.481 6288368.147)</td>\n",
       "      <td>-19.574816</td>\n",
       "      <td>-20.389999</td>\n",
       "    </tr>\n",
       "    <tr>\n",
       "      <th>1</th>\n",
       "      <td>367451.215474</td>\n",
       "      <td>6.320372e+06</td>\n",
       "      <td>POINT (367451.215 6320372.127)</td>\n",
       "      <td>-16.727447</td>\n",
       "      <td>-22.760000</td>\n",
       "    </tr>\n",
       "    <tr>\n",
       "      <th>2</th>\n",
       "      <td>370652.201422</td>\n",
       "      <td>6.320205e+06</td>\n",
       "      <td>POINT (370652.201 6320204.986)</td>\n",
       "      <td>-16.843718</td>\n",
       "      <td>-19.370001</td>\n",
       "    </tr>\n",
       "    <tr>\n",
       "      <th>3</th>\n",
       "      <td>373725.236917</td>\n",
       "      <td>6.320910e+06</td>\n",
       "      <td>POINT (373725.237 6320910.028)</td>\n",
       "      <td>-13.887700</td>\n",
       "      <td>-14.150000</td>\n",
       "    </tr>\n",
       "    <tr>\n",
       "      <th>4</th>\n",
       "      <td>368416.768254</td>\n",
       "      <td>6.320247e+06</td>\n",
       "      <td>POINT (368416.768 6320246.555)</td>\n",
       "      <td>-18.294212</td>\n",
       "      <td>-21.760000</td>\n",
       "    </tr>\n",
       "  </tbody>\n",
       "</table>\n",
       "</div>"
      ],
      "text/plain": [
       "               x             y                        geometry        SDB  \\\n",
       "0  318311.481221  6.288368e+06  POINT (318311.481 6288368.147) -19.574816   \n",
       "1  367451.215474  6.320372e+06  POINT (367451.215 6320372.127) -16.727447   \n",
       "2  370652.201422  6.320205e+06  POINT (370652.201 6320204.986) -16.843718   \n",
       "3  373725.236917  6.320910e+06  POINT (373725.237 6320910.028) -13.887700   \n",
       "4  368416.768254  6.320247e+06  POINT (368416.768 6320246.555) -18.294212   \n",
       "\n",
       "       lidar  \n",
       "0 -20.389999  \n",
       "1 -22.760000  \n",
       "2 -19.370001  \n",
       "3 -14.150000  \n",
       "4 -21.760000  "
      ]
     },
     "execution_count": 49,
     "metadata": {},
     "output_type": "execute_result"
    }
   ],
   "source": [
    "subdf.head()"
   ]
  },
  {
   "cell_type": "code",
   "execution_count": 51,
   "id": "3286a9b6-296f-46e1-a558-e77fe7887562",
   "metadata": {},
   "outputs": [],
   "source": [
    "x, y = subdf['SDB'].values, subdf['lidar'].values"
   ]
  },
  {
   "cell_type": "code",
   "execution_count": 56,
   "id": "bf708d60-5877-4427-b43a-56178c6d13be",
   "metadata": {},
   "outputs": [
    {
     "data": {
      "image/png": "[encoded data removed]",
      "text/plain": [
       "<Figure size 432x288 with 1 Axes>"
      ]
     },
     "metadata": {
      "needs_background": "light"
     },
     "output_type": "display_data"
    }
   ],
   "source": [
    "plt.scatter(y, x)\n",
    "plt.show()"
   ]
  },
  {
   "cell_type": "code",
   "execution_count": 58,
   "id": "8ce740cd-3b44-4741-bd84-665a6c19add6",
   "metadata": {},
   "outputs": [],
   "source": [
    "!git reset --soft HEAD~1"
   ]
  },
  {
   "cell_type": "code",
   "execution_count": null,
   "id": "f3d984df-2a02-4ef1-b4f0-7d80fcd9f584",
   "metadata": {},
   "outputs": [],
   "source": []
  }
 ],
 "metadata": {
  "kernelspec": {
   "display_name": "Python 3 (ipykernel)",
   "language": "python",
   "name": "python3"
  },
  "language_info": {
   "codemirror_mode": {
    "name": "ipython",
    "version": 3
   },
   "file_extension": ".py",
   "mimetype": "text/x-python",
   "name": "python",
   "nbconvert_exporter": "python",
   "pygments_lexer": "ipython3",
   "version": "3.9.12"
  }
 },
 "nbformat": 4,
 "nbformat_minor": 5
}
